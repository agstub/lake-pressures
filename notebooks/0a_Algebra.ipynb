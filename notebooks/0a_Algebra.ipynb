{
 "cells": [
  {
   "cell_type": "markdown",
   "metadata": {},
   "source": [
    "This program use SymPy to symbolically derive the functions that the effective pressure depends on.\n",
    "This file is best read/used in conjunction with the derivations in the manuscript (see appendix)."
   ]
  },
  {
   "cell_type": "markdown",
   "metadata": {},
   "source": [
    "## Effective pressure"
   ]
  },
  {
   "cell_type": "code",
   "execution_count": 1,
   "metadata": {},
   "outputs": [],
   "source": [
    "import sympy as sp\n",
    "import matplotlib.pyplot as plt\n",
    "\n",
    "k = sp.Symbol('k')          # scaled wavenumber (H*wavenumber, where H=ice thickness)  \n",
    "expk = sp.exp(k)\n",
    "gamma = sp.Symbol('gamma')  # sliding parameter\n",
    "\n",
    "\n",
    "# matrix of coefficients\n",
    "M = sp.Matrix(( [expk, -1/expk, k*expk,-k/expk], [expk, 1/expk, expk*(k+1),(k-1)/expk], [k-gamma, k+gamma, k-gamma,-k-gamma],[1,1,0,0] ))\n",
    "\n",
    "b1 = sp.Symbol('b1')                # proportional to -h\n",
    "b2 = sp.Symbol('b2')                # proportional to w_b\n",
    "\n",
    "\n",
    "# solution vector\n",
    "A,B,C,D = sp.symbols('A,B,C,D')\n",
    "\n",
    "# rhs vector:\n",
    "b = sp.Matrix(4,1,[b1,0,0,b2])\n",
    "\n",
    "sol, = sp.linsolve((M,b),[A,B,C,D])\n",
    "\n",
    "# dw/dz at z=0\n",
    "N = sol[0] - sol[1] + sol[2] + sol[3]\n"
   ]
  },
  {
   "cell_type": "markdown",
   "metadata": {},
   "source": [
    "Print relaxation and buoyancy transfer functions\n",
    "(the extension-related terms have the e_0 and e_1 on them):"
   ]
  },
  {
   "cell_type": "code",
   "execution_count": 2,
   "metadata": {},
   "outputs": [
    {
     "name": "stdout",
     "output_type": "stream",
     "text": [
      "C_h = \n",
      "                  2 ⎛ 2⋅k    ⎞  k                \n",
      "               2⋅k ⋅⎝ℯ    + 1⎠⋅ℯ                 \n",
      "─────────────────────────────────────────────────\n",
      "                 4⋅k   ⎛  ⎛   2    ⎞      2⎞  2⋅k\n",
      "γ - k + (γ + k)⋅ℯ    + ⎝γ⋅⎝4⋅k  + 2⎠ + 4⋅k ⎠⋅ℯ   \n"
     ]
    }
   ],
   "source": [
    "# # print the formulas (modulo a 1/k factor):\n",
    "\n",
    "# print the coefficient on -h\n",
    "Ch = sp.collect(sp.collect(sp.simplify(N.subs(b1,1).subs(b2,0)),expk),gamma)\n",
    "print('C_h = ')\n",
    "sp.pprint(Ch)\n",
    "# sp.pprint(sp.latex(Th))\n",
    "\n"
   ]
  },
  {
   "cell_type": "code",
   "execution_count": 3,
   "metadata": {},
   "outputs": [
    {
     "name": "stdout",
     "output_type": "stream",
     "text": [
      "C_w = \n",
      "                       4  2⋅k                    \n",
      "                    4⋅k ⋅ℯ                       \n",
      "─────────────────────────────────────────────────\n",
      "                 4⋅k   ⎛  ⎛   2    ⎞      2⎞  2⋅k\n",
      "γ - k + (γ + k)⋅ℯ    + ⎝γ⋅⎝4⋅k  + 2⎠ + 4⋅k ⎠⋅ℯ   \n"
     ]
    }
   ],
   "source": [
    "# print the coefficient on w_b\n",
    "Cw = k*sp.collect(sp.collect(sp.simplify(N.subs(b1,0).subs(b2,1)),expk),gamma)\n",
    "print('C_w = ')\n",
    "sp.pprint(Cw)\n",
    "# sp.pprint(sp.latex(Tw))\n",
    "\n"
   ]
  }
 ],
 "metadata": {
  "kernelspec": {
   "display_name": "Python 3 (ipykernel)",
   "language": "python",
   "name": "python3"
  },
  "language_info": {
   "codemirror_mode": {
    "name": "ipython",
    "version": 3
   },
   "file_extension": ".py",
   "mimetype": "text/x-python",
   "name": "python",
   "nbconvert_exporter": "python",
   "pygments_lexer": "ipython3",
   "version": "3.9.6"
  }
 },
 "nbformat": 4,
 "nbformat_minor": 4
}
